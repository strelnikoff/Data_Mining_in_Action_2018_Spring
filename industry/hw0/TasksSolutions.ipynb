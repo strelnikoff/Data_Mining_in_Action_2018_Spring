{
 "cells": [
  {
   "cell_type": "markdown",
   "metadata": {},
   "source": [
    "### Задача 1\n",
    "\n",
    "Что выведет этот код?\n",
    "\n",
    "Ответом на эту задачу является выведенное число, округлённое до 4го знака, дробная часть отделяется **точкой**."
   ]
  },
  {
   "cell_type": "code",
   "execution_count": 1,
   "metadata": {},
   "outputs": [
    {
     "name": "stdout",
     "output_type": "stream",
     "text": [
      "0.9648473034437947\n"
     ]
    }
   ],
   "source": [
    "from sklearn.datasets import load_breast_cancer\n",
    "from sklearn.ensemble import RandomForestClassifier\n",
    "from sklearn.model_selection import cross_val_score\n",
    "\n",
    "X_data, y_data = load_breast_cancer(return_X_y=True)\n",
    "\n",
    "print(cross_val_score(RandomForestClassifier(criterion='entropy', n_estimators=42, random_state=42), X_data, y_data, cv=3).mean())"
   ]
  },
  {
   "cell_type": "markdown",
   "metadata": {},
   "source": [
    "### Задача 2"
   ]
  },
  {
   "cell_type": "markdown",
   "metadata": {},
   "source": [
    "Напишите свою функцию определения качества модели по следующей метрике: максимальный precision, при условии, что $precision < 1.5 * recall$ и $recall > 0.5$ и определите наилучшее её значение, перебирая гиперпараметры по предложенной сетке"
   ]
  },
  {
   "cell_type": "markdown",
   "metadata": {},
   "source": [
    "Ответом на эту задачу является максимальное значение качества по предложенной метрике, округлённое до 4го знака, дробная часть отделяется **точкой**."
   ]
  },
  {
   "cell_type": "code",
   "execution_count": 69,
   "metadata": {},
   "outputs": [
    {
     "name": "stdout",
     "output_type": "stream",
     "text": [
      "Accuracy best params and score\n",
      "\tParams: {'max_depth': None, 'criterion': 'gini', 'n_estimators': 10}\n",
      "\tScore: 0.9688196110664571\n",
      "Custom loss best params and score\n",
      "\tParams: {'max_depth': 5, 'criterion': 'gini', 'n_estimators': 50}\n",
      "\tScore: 0.9942015090366172\n"
     ]
    }
   ],
   "source": [
    "from sklearn.model_selection import GridSearchCV\n",
    "from sklearn.metrics import make_scorer\n",
    "from sklearn.ensemble import RandomForestClassifier\n",
    "from sklearn.datasets import load_breast_cancer\n",
    "\n",
    "param_grid = {\n",
    "    'n_estimators': [10, 20, 30, 40, 50],\n",
    "    'max_depth': [None, 5, 10, 15, 20],\n",
    "    'criterion': ['entropy', 'gini']\n",
    "}\n",
    "\n",
    "X_data, y_data = load_breast_cancer(return_X_y=True)\n",
    "\n",
    "estimator = RandomForestClassifier(random_state=42)\n",
    "\n",
    "print('Accuracy best params and score')\n",
    "result = GridSearchCV(estimator, param_grid, cv=3, scoring='precision').fit(X_data, y_data)\n",
    "print('\\tParams:', result.best_params_)\n",
    "print('\\tScore:', result.best_score_)\n",
    "\n",
    "\n",
    "from sklearn.metrics import precision_recall_curve\n",
    "def my_loss(y, y_pred):\n",
    "    precision, recall, _ = precision_recall_curve(y, y_pred[:, 1])\n",
    "    return precision[(precision < 1.5 * recall) & (recall > 0.5)].max()\n",
    "scorer = make_scorer(my_loss, greater_is_better=True, needs_proba=True)\n",
    "\n",
    "print('Custom loss best params and score')\n",
    "result = GridSearchCV(estimator, param_grid, cv=3, scoring=scorer).fit(X_data, y_data)\n",
    "print('\\tParams:', result.best_params_)\n",
    "print('\\tScore:', result.best_score_)"
   ]
  },
  {
   "cell_type": "markdown",
   "metadata": {},
   "source": [
    "### Задача 3"
   ]
  },
  {
   "cell_type": "markdown",
   "metadata": {},
   "source": [
    "Какова минимальная сторона квадрата, содержащего все точки из $X$? \n",
    "\n",
    "Ответом на эту задачу является число, округлённое до 2го знака, дробная часть отделяется точкой."
   ]
  },
  {
   "cell_type": "code",
   "execution_count": 3,
   "metadata": {},
   "outputs": [],
   "source": [
    "from sklearn.datasets import load_breast_cancer\n",
    "\n",
    "data = load_breast_cancer()\n",
    "X = data.data[:, :2]"
   ]
  },
  {
   "cell_type": "code",
   "execution_count": 26,
   "metadata": {},
   "outputs": [
    {
     "data": {
      "text/plain": [
       " final_simplex: (array([[14.00131309, 24.495     ],\n",
       "       [14.00138573, 24.495     ],\n",
       "       [14.00121852, 24.495     ]]), array([29.57, 29.57, 29.57]))\n",
       "           fun: 29.570000000000007\n",
       "       message: 'Optimization terminated successfully.'\n",
       "          nfev: 153\n",
       "           nit: 86\n",
       "        status: 0\n",
       "       success: True\n",
       "             x: array([14.00131309, 24.495     ])"
      ]
     },
     "execution_count": 26,
     "metadata": {},
     "output_type": "execute_result"
    }
   ],
   "source": [
    "from scipy.optimize import minimize\n",
    "import numpy as np\n",
    "\n",
    "minimize(lambda point: np.abs(point - X).max() * 2, np.mean(X, axis=0), method='Nelder-Mead')"
   ]
  },
  {
   "cell_type": "code",
   "execution_count": 32,
   "metadata": {},
   "outputs": [
    {
     "data": {
      "text/plain": [
       "29.57"
      ]
     },
     "execution_count": 32,
     "metadata": {},
     "output_type": "execute_result"
    }
   ],
   "source": [
    "max(*(X.max(axis=0) - X.min(axis=0)))"
   ]
  },
  {
   "cell_type": "code",
   "execution_count": null,
   "metadata": {},
   "outputs": [],
   "source": []
  },
  {
   "cell_type": "markdown",
   "metadata": {},
   "source": [
    "### Задача 3* - Если можно поворачивать"
   ]
  },
  {
   "cell_type": "code",
   "execution_count": 35,
   "metadata": {},
   "outputs": [],
   "source": [
    "def rotate(X, angle):\n",
    "    res = np.copy(X)\n",
    "    res[:, 0] = np.cos(angle) * X[:, 0] - np.sin(angle) * X[:, 1]\n",
    "    res[:, 1] = np.sin(angle) * X[:, 0] + np.cos(angle) * X[:, 1]\n",
    "    return res\n",
    "\n",
    "def create_loss(angle):\n",
    "    def loss(point):\n",
    "        return 2. * np.max(np.abs(rotate(X - point, angle)))\n",
    "    return loss"
   ]
  },
  {
   "cell_type": "code",
   "execution_count": 40,
   "metadata": {},
   "outputs": [],
   "source": [
    "args = np.linspace(0, np.pi / 2, num=1000)\n",
    "results = []\n",
    "for angle in args:\n",
    "    results.append(minimize(create_loss(angle), np.mean(X, axis=0), method='Nelder-Mead').fun)"
   ]
  },
  {
   "cell_type": "code",
   "execution_count": 41,
   "metadata": {},
   "outputs": [
    {
     "data": {
      "image/png": "[encoded data removed]",
      "text/plain": [
       "<matplotlib.figure.Figure at 0x7f8fa72e0ba8>"
      ]
     },
     "metadata": {},
     "output_type": "display_data"
    }
   ],
   "source": [
    "import matplotlib.pyplot as plt\n",
    "%matplotlib inline\n",
    "\n",
    "plt.plot(args, results)\n",
    "\n",
    "plt.show()"
   ]
  },
  {
   "cell_type": "code",
   "execution_count": 44,
   "metadata": {},
   "outputs": [
    {
     "name": "stdout",
     "output_type": "stream",
     "text": [
      "24.03623297182242\n",
      "584\n",
      "0.918263318166386\n"
     ]
    }
   ],
   "source": [
    "print(np.min(results))\n",
    "print(np.argmin(results))\n",
    "print(args[np.argmin(results)])"
   ]
  },
  {
   "cell_type": "code",
   "execution_count": null,
   "metadata": {},
   "outputs": [],
   "source": []
  },
  {
   "cell_type": "code",
   "execution_count": 51,
   "metadata": {},
   "outputs": [],
   "source": [
    "args = np.linspace(0.9, 1., num=100)\n",
    "results = []\n",
    "for angle in args:\n",
    "    results.append(minimize(create_loss(angle), np.mean(X, axis=0), method='Nelder-Mead').fun)"
   ]
  },
  {
   "cell_type": "code",
   "execution_count": 52,
   "metadata": {},
   "outputs": [
    {
     "data": {
      "image/png": "[encoded data removed]",
      "text/plain": [
       "<matplotlib.figure.Figure at 0x7f8fa72502b0>"
      ]
     },
     "metadata": {},
     "output_type": "display_data"
    }
   ],
   "source": [
    "plt.plot(args, results)\n",
    "plt.show()"
   ]
  },
  {
   "cell_type": "code",
   "execution_count": 53,
   "metadata": {},
   "outputs": [
    {
     "name": "stdout",
     "output_type": "stream",
     "text": [
      "24.036052892767415\n",
      "18\n",
      "0.9181818181818182\n"
     ]
    }
   ],
   "source": [
    "print(np.min(results))\n",
    "print(np.argmin(results))\n",
    "print(args[np.argmin(results)])"
   ]
  },
  {
   "cell_type": "markdown",
   "metadata": {},
   "source": [
    "Два способа"
   ]
  },
  {
   "cell_type": "code",
   "execution_count": 54,
   "metadata": {},
   "outputs": [],
   "source": [
    "def final_loss(x):\n",
    "    point = np.array(x[:2])\n",
    "    angle = x[2]\n",
    "    return 2. * np.max(np.abs(rotate(X - point, angle)))"
   ]
  },
  {
   "cell_type": "code",
   "execution_count": 55,
   "metadata": {},
   "outputs": [
    {
     "data": {
      "text/plain": [
       " final_simplex: (array([[15.19937291, 22.46392248,  0.91740809],\n",
       "       [15.19931592, 22.46400032,  0.91740848],\n",
       "       [15.19941343, 22.46386989,  0.91740844],\n",
       "       [15.19930655, 22.46400995,  0.91740853]]), array([24.03433645, 24.0343367 , 24.03433909, 24.03433935]))\n",
       "           fun: 24.034336453303187\n",
       "       message: 'Optimization terminated successfully.'\n",
       "          nfev: 158\n",
       "           nit: 88\n",
       "        status: 0\n",
       "       success: True\n",
       "             x: array([15.19937291, 22.46392248,  0.91740809])"
      ]
     },
     "execution_count": 55,
     "metadata": {},
     "output_type": "execute_result"
    }
   ],
   "source": [
    "x, y = np.mean(X, axis=0)\n",
    "minimize(final_loss, (x, y, 0.91), method='Nelder-Mead')"
   ]
  },
  {
   "cell_type": "code",
   "execution_count": 58,
   "metadata": {},
   "outputs": [
    {
     "data": {
      "text/plain": [
       " final_simplex: (array([[15.20271213, 22.45956436,  0.91740861],\n",
       "       [15.20276629, 22.45949705,  0.91740933],\n",
       "       [15.20266413, 22.45963126,  0.91740923],\n",
       "       [15.20265304, 22.45964727,  0.91740975]]), array([24.03433655, 24.03433868, 24.03433886, 24.03433966]))\n",
       "           fun: 24.03433654651465\n",
       "       message: 'Optimization terminated successfully.'\n",
       "          nfev: 166\n",
       "           nit: 91\n",
       "        status: 0\n",
       "       success: True\n",
       "             x: array([15.20271213, 22.45956436,  0.91740861])"
      ]
     },
     "execution_count": 58,
     "metadata": {},
     "output_type": "execute_result"
    }
   ],
   "source": [
    "x, y = np.mean(X, axis=0)\n",
    "minimize(final_loss, (x, y, 0.92), method='Nelder-Mead')"
   ]
  },
  {
   "cell_type": "code",
   "execution_count": null,
   "metadata": {},
   "outputs": [],
   "source": []
  },
  {
   "cell_type": "code",
   "execution_count": null,
   "metadata": {},
   "outputs": [],
   "source": []
  },
  {
   "cell_type": "code",
   "execution_count": 56,
   "metadata": {},
   "outputs": [],
   "source": [
    "args = np.linspace(0.9, 1., num=10000)\n",
    "results = []\n",
    "for angle in args:\n",
    "    results.append(minimize(create_loss(angle), np.mean(X, axis=0), method='Nelder-Mead').fun)"
   ]
  },
  {
   "cell_type": "code",
   "execution_count": 57,
   "metadata": {},
   "outputs": [
    {
     "name": "stdout",
     "output_type": "stream",
     "text": [
      "24.034343480816986\n",
      "1741\n",
      "0.9174117411741174\n"
     ]
    }
   ],
   "source": [
    "print(np.min(results))\n",
    "print(np.argmin(results))\n",
    "print(args[np.argmin(results)])"
   ]
  },
  {
   "cell_type": "code",
   "execution_count": null,
   "metadata": {},
   "outputs": [],
   "source": []
  }
 ],
 "metadata": {
  "kernelspec": {
   "display_name": "Python 3",
   "language": "python",
   "name": "python3"
  },
  "language_info": {
   "codemirror_mode": {
    "name": "ipython",
    "version": 3
   },
   "file_extension": ".py",
   "mimetype": "text/x-python",
   "name": "python",
   "nbconvert_exporter": "python",
   "pygments_lexer": "ipython3",
   "version": "3.4.3"
  }
 },
 "nbformat": 4,
 "nbformat_minor": 2
}
